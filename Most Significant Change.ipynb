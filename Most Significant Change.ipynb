{
 "cells": [
  {
   "cell_type": "markdown",
   "metadata": {},
   "source": [
    "# Most Significant Change\n",
    "\n",
    "Please note that these notes are based on the work of Theo Nabben, and notes and diagrams are based heavily on material from MSC User Guide or from Clear Horizon.\n",
    "\n",
    "Notes and contributions from myself, Josh, are recorded *in italics*."
   ]
  },
  {
   "cell_type": "markdown",
   "metadata": {},
   "source": [
    "# Key links\n",
    "\n",
    "* [Obligatory Wikipedia Link](https://en.wikipedia.org/wiki/Most_significant_change_technique)\n",
    "* [MSC User Guide](https://www.clearhorizon.com.au/f.ashx/dd-2005-msc_user_guide.pdf)\n",
    "* [ODI summary](https://www.odi.org/publications/5211-msc-most-significant-change-monitoring-evaluation)\n",
    "* [MSC discussion group](http://groups.yahoo.com/group/MostSignificantChanges)"
   ]
  },
  {
   "cell_type": "markdown",
   "metadata": {},
   "source": [
    "# Movers and shakers\n",
    "\n",
    "* [Anecdote](https://www.anecdote.com/)\n",
    "* [Clear Horizon Consulting](https://www.clearhorizon.com.au/)"
   ]
  },
  {
   "cell_type": "markdown",
   "metadata": {},
   "source": [
    "---"
   ]
  },
  {
   "cell_type": "markdown",
   "metadata": {},
   "source": [
    "# History\n",
    "\n",
    "Gained some interest in Australia in order to capture short-term outcomes of long-term projects - e.g. natural resources projects. Lotterywest have widely used it for grant-distribution.\n",
    "\n",
    "Widely used for not-for-profits, although it is \"widely known, but somewhat patchy\".\n"
   ]
  },
  {
   "cell_type": "markdown",
   "metadata": {},
   "source": [
    "# MSC\n",
    "\n",
    "MSC stories provide:\n",
    "* Information about project impact, plus\n",
    "* A platform for discussion about project activities, future direction and values, yielding\n",
    "* Self-learning, organisational-learning, and project improvement.\n",
    "\n",
    "## What is it, actually?\n",
    "\n",
    "At the most basic level, MSC involves\n",
    "* Collection of significant change stories from the field level,\n",
    "* Systematic selection of the most significant of these stories by stakeholders or staff\n",
    "* 'Search' for project impact - regular and in-depth discussions\n",
    "* Communicate results of selection process (feedback)\n",
    "\n",
    "## Okay, but why tell stories?\n",
    "\n",
    "Stories are a qualtitative approach, to be contrasted against more traditional quantitative approaches.\n",
    "\n",
    "Some of the key appeals are that people tell stories naturally, and they exist in every culture. They deal with complexity and provide context. They can carry hard messages and taboos (*for example - topics that we are not are not comfortably conveying in a faceless survey)*, and people remember them! \n",
    "\n",
    "The challenge is that stories are not known for accuracy and truth - it is easy to lose details. *However, stories are very useful for broadening horizons - for informing what we need to actually need to be tracking.* "
   ]
  },
  {
   "cell_type": "markdown",
   "metadata": {},
   "source": [
    "## Qualitative vs Quantitative\n",
    "\n",
    "MSC is a distinctly qualitative approach, *almost a catalytic approach*. It is accessible to a community and tends to be a narrative, morale boosting approach. It does have an impact focus *and does not have to be done in the short-term, or continuously, or at specific intervals*. \n",
    "\n",
    "We are particularly looking for unexpected outcomes. We are not necessarily looking to confirm/disprove the traditional data - we are hunting for the outliers. (Despite this, common themes can be identified across a number of stories.)\n",
    "\n",
    "In this regard, it can be an incredibly useful organisational learning and program improvement.\n",
    "\n",
    "| **Quantitative**         | **MSC**                       |\n",
    "|----------------------|---------------------------|\n",
    "| Focus on measurement | Focus on questioning      |\n",
    "| Closed questions     | Open questions            |\n",
    "| About 'proving'      | About 'learning'          |\n",
    "| Program out          | Context in                |\n",
    "| Deductive            | Inductive                 |\n",
    "| Static               | Dynamic                   |\n",
    "| Central tendencies   | Outer edges of experience |\n",
    "\n",
    "MSC should probably be not be used on its own, but can be a fantastic supplement to traditional quantative data-based approaches.\n",
    "\n",
    "This approach can be broadly summarised as:\n",
    "\n",
    "| **Outcomes are** | **Expected** | **Unexpected** |\n",
    "|------|-------|-------|\n",
    "| **Of agreed significant** | Predefined indicators are most useful | MSC is useful |\n",
    "| **Of open or disagreed significance** | Indicators are useful and MSC is useful | MSC is most useful | \n",
    "\n",
    "> \"Think of stats as the rice - it is the meal, it fills us up. But MSC is the sauce that makes the meal delicious. It is important and complementary.\""
   ]
  },
  {
   "cell_type": "markdown",
   "metadata": {},
   "source": [
    "## Themes of the MSC technique\n",
    "\n",
    "The MSC technique has several general themes.\n",
    "\n",
    "1. Thick description\n",
    "2. Systematic process of selection\n",
    "3. Transparency (it needs to be clear on \"why\" we are selecting something!)\n",
    "4. Verification and understanding\n",
    "5. Participation (vs. having a single researcher)\n",
    "6. Member checking (of what is being written)"
   ]
  },
  {
   "cell_type": "markdown",
   "metadata": {},
   "source": [
    "## Steps to MSC\n",
    "\n",
    "The steps to MSC can be listed as:\n",
    "\n",
    "1. Define the purpose of using MSC - is this for learning? Monitoring? Change?\n",
    "2. Establish 'domains of change'\n",
    "3. Collect your stories, and document reasons for your choices\n",
    "4. Review and select stories, and document reasons for your choices. **Without selection, it is not MSC. Selection is a key component.**\n",
    "5. Feedback - discuss and communicate the reuslts of selection\n",
    "6. Verification\n",
    "7. Secondary analysis and quantification\n",
    "8. Adapt in light of learning\n",
    "\n",
    "These steps are outlined in depth in the [user guide](https://www.clearhorizon.com.au/f.ashx/dd-2005-msc_user_guide.pdf)."
   ]
  },
  {
   "cell_type": "markdown",
   "metadata": {},
   "source": [
    "### How to document stories\n",
    "\n",
    "When collecting a story, we should be looking for:\n",
    "\n",
    "* Information on what collected the story, who told it, and when.\n",
    "* A description of the story itself - what actually happened?\n",
    "* Significants (to the story-teller) of the events described in the story\n",
    "* Consider the use of a story-collection form. Don't be afraid to show participants the form."
   ]
  },
  {
   "cell_type": "markdown",
   "metadata": {},
   "source": [
    "#### Feedback session notes\n",
    "\n",
    "| | Challenging | Rewarding |\n",
    "|--|:--|--|\n",
    "| **Interviewer** | <ul><li>Directing storyteller to key points</li><li>DId I capture it sufficiently?</li><li>Time limitations</li><li>Balancing note-taking, talking, listening to my own thoughts...</li><li>Am I prompting, or leading?</li><li>Over-interpretation? Am I biasing?</li></ul>| <ul><li>Seeing eyes light up </li><li>Successfully paraphrasing and understanding!</li><li>Seeing the understanding of a concept change</li><li>Letting it go and let people work it for themselves</li><li>Working with people who are passionate about something!</ul>| \n",
    "| **Story-teller** | <ul><li>Which story am I telling? Is it significant enough?</li><li>Do they know enough about what I'm talking about?</li><li>Am I articulate enough?</li><li>Should I be talking about positive or negative things?</li><li>Am I self-editing?</li></ul> | <ul><li>Realisation - your eyes light up!</li><li>It's rewarding the voice your experience. And the process is enjoyable and illuminating.</li><li>Validation is enjoyable.</li><li>You're interested in me!</li></ul> | "
   ]
  },
  {
   "cell_type": "markdown",
   "metadata": {},
   "source": [
    "### What question to ask\n",
    "\n",
    "We're chasing a **time focus**, **opinion**, **selective**, **impact** and **domain**.\n",
    "\n",
    "For example, \"looking back over the last year [**time focus**], what do you think [**opinion**] was the most significant change [**selective**] in the quality of people's lives [**impact**] in this community? [**domain**]\""
   ]
  },
  {
   "cell_type": "markdown",
   "metadata": {},
   "source": [
    "## MSC focus: Change\n",
    "\n",
    "An MSC story has a number of components:\n",
    "\n",
    "**A beginning**: Establish a baseline. What were things like before intervention?\n",
    "\n",
    "**A middle**: What happened? What was the nature and type of support of the program?\n",
    "\n",
    "**An end**: What is the changed situation after intervention?\n",
    "\n",
    "**A reason for significance**: Why is it important to the story-teller?"
   ]
  },
  {
   "cell_type": "markdown",
   "metadata": {},
   "source": [
    "## MSC focus: Significance\n",
    "\n",
    "Significance, in this context, refers to something that is important *to you* - the person telling the story.\n",
    "\n",
    "We are not looking into the largest change coming out of the program as a whole - it is the most significant change to the story-teller. It can be positive or negative, and can use local language to convey the right meaning. \n",
    "\n",
    "It may be up to the story-receiver to list changes to seed thinking."
   ]
  },
  {
   "cell_type": "markdown",
   "metadata": {},
   "source": [
    "## MSC focus: Selection\n",
    "\n",
    "Selection of the most significant story is a key aspect of the process. Without this, we're simply collecting stories. \n",
    "\n",
    "Don't rush into voting or selection. Don't forget to hold a bold discussion first before we start voting and picking our story.\n",
    "\n",
    "Suggested questions for driving selection can be:\n",
    "\n",
    "> \"From among all these significant changes, what do you think was the most significant change of all?\"\n",
    "\n",
    "and \n",
    "\n",
    "> \"Why do you think this is significant?\""
   ]
  },
  {
   "cell_type": "markdown",
   "metadata": {},
   "source": [
    "---"
   ]
  },
  {
   "cell_type": "markdown",
   "metadata": {},
   "source": [
    "# Key concepts and definitions\n",
    "\n",
    "* Monitoring and evaluation technique.\n",
    "* Story-telling based.\n",
    "* Doesn't rely on pre-determined evaluators.\n",
    "\n",
    "## Monitoring\n",
    "Monitoring tends to be:\n",
    "* On-going collection of information\n",
    "* Primarily for project management\n",
    "* Traditionally focused on activities and outputs\n",
    "\n",
    "## Evaluation\n",
    "Evaluation tends to be\n",
    "* Done less frequently than monitoring\n",
    "* More analytical - involving judging the merits of a project of a concept\n",
    "\n",
    "## KASAC\n",
    "\n",
    "We are often seeking a change in KASAC. This can be:\n",
    "* Knowledge\n",
    "* Attitude\n",
    "* Skills\n",
    "* Aspirations\n",
    "* Confidence"
   ]
  }
 ],
 "metadata": {
  "kernelspec": {
   "display_name": "Python 3",
   "language": "python",
   "name": "python3"
  },
  "language_info": {
   "codemirror_mode": {
    "name": "ipython",
    "version": 3
   },
   "file_extension": ".py",
   "mimetype": "text/x-python",
   "name": "python",
   "nbconvert_exporter": "python",
   "pygments_lexer": "ipython3",
   "version": "3.6.3"
  }
 },
 "nbformat": 4,
 "nbformat_minor": 2
}
